{
 "cells": [
  {
   "cell_type": "code",
   "execution_count": 2,
   "metadata": {},
   "outputs": [],
   "source": [
    "from sarsalambda import SarsaLambda"
   ]
  },
  {
   "cell_type": "code",
   "execution_count": 3,
   "metadata": {},
   "outputs": [
    {
     "name": "stderr",
     "output_type": "stream",
     "text": [
      "Simulations: 100%|██████████| 100000/100000 [06:14<00:00, 266.87it/s]\n"
     ]
    }
   ],
   "source": [
    "grid = SarsaLambda(n = 60,\n",
    "                   m = 35,\n",
    "                   discount = 0.8,\n",
    "                   learning = 0.1,\n",
    "                   decay = 0.5,\n",
    "                   epsilon = 0.3,\n",
    "                   nb_events = 100,\n",
    "                   initial_coord=(1, 1)\n",
    "                   )\n",
    "grid.run_simulations(100000)"
   ]
  },
  {
   "cell_type": "code",
   "execution_count": null,
   "metadata": {},
   "outputs": [],
   "source": [
    "grid.show()"
   ]
  }
 ],
 "metadata": {
  "kernelspec": {
   "display_name": "Python 3.10.9 ('default')",
   "language": "python",
   "name": "python3"
  },
  "language_info": {
   "codemirror_mode": {
    "name": "ipython",
    "version": 3
   },
   "file_extension": ".py",
   "mimetype": "text/x-python",
   "name": "python",
   "nbconvert_exporter": "python",
   "pygments_lexer": "ipython3",
   "version": "3.10.9"
  },
  "orig_nbformat": 4,
  "vscode": {
   "interpreter": {
    "hash": "c00e1f87cfbae61f3bbbf6bab3e99cd39370e86f550b5161e3bd0089219ac7e3"
   }
  }
 },
 "nbformat": 4,
 "nbformat_minor": 2
}
